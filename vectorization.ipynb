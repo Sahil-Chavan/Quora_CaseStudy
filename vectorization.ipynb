{
 "metadata": {
  "language_info": {
   "codemirror_mode": {
    "name": "ipython",
    "version": 3
   },
   "file_extension": ".py",
   "mimetype": "text/x-python",
   "name": "python",
   "nbconvert_exporter": "python",
   "pygments_lexer": "ipython3",
   "version": "3.7.9-final"
  },
  "orig_nbformat": 2,
  "kernelspec": {
   "name": "python37764bitml1condab1e7a9cc0a4b4da2aa1261f0c90e368a",
   "display_name": "Python 3.7.7 64-bit ('ml1': conda)",
   "metadata": {
    "interpreter": {
     "hash": "53879c85151108658c71efdd164e27c5358834a3236ad8f6cb8c36a79045f0cc"
    }
   }
  }
 },
 "nbformat": 4,
 "nbformat_minor": 2,
 "cells": [
  {
   "cell_type": "code",
   "execution_count": 3,
   "metadata": {},
   "outputs": [],
   "source": [
    "import pickle\n",
    "import pandas as pd\n",
    "import numpy as np\n",
    "from tqdm import tqdm\n",
    "\n",
    "import spacy\n",
    "from sklearn.feature_extraction.text import TfidfVectorizer"
   ]
  },
  {
   "cell_type": "code",
   "execution_count": 2,
   "metadata": {},
   "outputs": [],
   "source": [
    "data = pd.read_csv('../../datafiles/CS1_quora/train.csv')"
   ]
  },
  {
   "cell_type": "code",
   "execution_count": 8,
   "metadata": {},
   "outputs": [],
   "source": [
    "# avoid decoding problems\n",
    "data['question1'] = data['question1'].apply(lambda x: str(x))\n",
    "data['question2'] = data['question2'].apply(lambda x: str(x))"
   ]
  },
  {
   "source": [
    "## We need to do the unicode convergen becasue if we don't, then this error gets fired when we execute the tfidf code\n",
    "'''\n",
    "ValueError                                Traceback (most recent call last)\n",
    "<ipython-input-5-b6e49e49dd9d> in <module>\n",
    "      1 questions = list(data['question1']) + list(data['question2'])\n",
    "      2 tfidf = TfidfVectorizer(lowercase=False, )\n",
    "----> 3 tfidf.fit_transform(questions)\n",
    "      4 # dict key:word and value:tf-idf score\n",
    "      5 tfidf_dict = dict(zip(tfidf.get_feature_names(), tfidf.idf_))\n",
    "\n",
    "~\\ anaconda3\\envs\\ml1\\lib\\site-packages\\sklearn\\ feature_extraction\\ text.py in fit_transform(self, raw_documents, y)\n",
    "   1839         \"\"\"\n",
    "   1840         self._check_params()\n",
    "-> 1841         X = super().fit_transform(raw_documents)\n",
    "   1842         self._tfidf.fit(X)\n",
    "   1843         # X is already a transformed view of raw_documents so\n",
    "\n",
    "~\\ anaconda3\\envs\\ml1\\lib\\site-packages\\sklearn\\ feature_extraction\\ text.py in fit_transform(self, raw_documents, y)\n",
    "   1197 \n",
    "   1198         vocabulary, X = self._count_vocab(raw_documents,\n",
    "-> 1199                                           self.fixed_vocabulary_)\n",
    "   1200 \n",
    "   1201         if self.binary:\n",
    "\n",
    "~\\ anaconda3\\envs\\ml1\\lib\\site-packages\\sklearn\\ feature_extraction\\ text.py in _count_vocab(self, raw_documents, fixed_vocab)\n",
    "   1108         for doc in raw_documents:\n",
    "   1109             feature_counter = {}\n",
    "-> 1110             for feature in analyze(doc):\n",
    "   1111                 try:\n",
    "   1112                     feature_idx = vocabulary[feature]\n",
    "\n",
    "~\\ anaconda3\\envs\\ml1\\lib\\site-packages\\sklearn\\ feature_extraction\\ text.py in _analyze(doc, analyzer, tokenizer, ngrams, preprocessor, decoder, stop_words)\n",
    "     97 \n",
    "     98     if decoder is not None:\n",
    "---> 99         doc = decoder(doc)\n",
    "    100     if analyzer is not None:\n",
    "    101         doc = analyzer(doc)\n",
    "\n",
    "~\\ anaconda3\\envs\\ml1\\lib\\site-packages\\sklearn\\ feature_extraction\\ text.py in decode(self, doc)\n",
    "    217 \n",
    "    218         if doc is np.nan:\n",
    "--> 219             raise ValueError(\"np.nan is an invalid document, expected byte or \"\n",
    "    220                              \"unicode string.\")\n",
    "    221 \n",
    "\n",
    "<h3><font color=red>ValueError: np.nan is an invalid document, expected byte or unicode string.</font></h3>'''"
   ],
   "cell_type": "markdown",
   "metadata": {}
  },
  {
   "cell_type": "code",
   "execution_count": 11,
   "metadata": {},
   "outputs": [],
   "source": [
    "questions = list(data['question1']) + list(data['question2'])\n",
    "tfidf = TfidfVectorizer(lowercase=False, )\n",
    "tfidf.fit_transform(questions)\n",
    "# dict key:word and value:tf-idf score\n",
    "tfidf_dict = dict(zip(tfidf.get_feature_names(), tfidf.idf_))"
   ]
  },
  {
   "source": [
    "- After we find TF-IDF scores, we convert each question to a weighted average of word2vec vectors by these scores.\n",
    "- here we use a pre-trained GLOVE model which comes free with \"Spacy\".  https://spacy.io/usage/vectors-similarity\n",
    "- It is trained on Wikipedia and therefore, it is stronger in terms of word semantics. "
   ],
   "cell_type": "markdown",
   "metadata": {}
  },
  {
   "cell_type": "code",
   "execution_count": 14,
   "metadata": {
    "tags": []
   },
   "outputs": [
    {
     "output_type": "stream",
     "name": "stderr",
     "text": "100%|██████████| 100000/100000 [10:22&lt;00:00, 160.61it/s]\n"
    },
    {
     "output_type": "error",
     "ename": "NameError",
     "evalue": "name &#39;df&#39; is not defined",
     "traceback": [
      "\u001b[1;31m---------------------------------------------------------------------------\u001b[0m",
      "\u001b[1;31mNameError\u001b[0m                                 Traceback (most recent call last)",
      "\u001b[1;32m&lt;ipython-input-14-8b6464cc7f66&gt;\u001b[0m in \u001b[0;36m&lt;module&gt;\u001b[1;34m\u001b[0m\n\u001b[0;32m     15\u001b[0m     \u001b[0mmean_vec1\u001b[0m \u001b[1;33m=\u001b[0m \u001b[0mmean_vec1\u001b[0m\u001b[1;33m.\u001b[0m\u001b[0mmean\u001b[0m\u001b[1;33m(\u001b[0m\u001b[0maxis\u001b[0m\u001b[1;33m=\u001b[0m\u001b[1;36m0\u001b[0m\u001b[1;33m)\u001b[0m\u001b[1;33m\u001b[0m\u001b[1;33m\u001b[0m\u001b[0m\n\u001b[0;32m     16\u001b[0m     \u001b[0mvecs1\u001b[0m\u001b[1;33m.\u001b[0m\u001b[0mappend\u001b[0m\u001b[1;33m(\u001b[0m\u001b[0mmean_vec1\u001b[0m\u001b[1;33m)\u001b[0m\u001b[1;33m\u001b[0m\u001b[1;33m\u001b[0m\u001b[0m\n\u001b[1;32m---&gt; 17\u001b[1;33m \u001b[0mdf\u001b[0m\u001b[1;33m[\u001b[0m\u001b[1;34m&#39;q1_vect&#39;\u001b[0m\u001b[1;33m]\u001b[0m \u001b[1;33m=\u001b[0m \u001b[0mlist\u001b[0m\u001b[1;33m(\u001b[0m\u001b[0mvecs1\u001b[0m\u001b[1;33m)\u001b[0m\u001b[1;33m\u001b[0m\u001b[1;33m\u001b[0m\u001b[0m\n\u001b[0m",
      "\u001b[1;31mNameError\u001b[0m: name &#39;df&#39; is not defined"
     ]
    }
   ],
   "source": [
    "# en_vectors_web_lg, which includes over 1 million unique vectors.\n",
    "nlp = spacy.load('en_core_web_sm')\n",
    "\n",
    "vecs1 = []\n",
    "for qu1 in tqdm(list(data['question1'][0:100000])):\n",
    "    doc1 = nlp(qu1) \n",
    "    mean_vec1 = np.zeros([len(doc1), len(doc1[0].vector)])\n",
    "    for word1 in doc1:\n",
    "        vec1 = word1.vector\n",
    "        try:\n",
    "            idf = tfidf_dict[str(word1)]\n",
    "        except:\n",
    "            idf = 0\n",
    "        mean_vec1 += vec1 * idf\n",
    "    mean_vec1 = mean_vec1.mean(axis=0)\n",
    "    vecs1.append(mean_vec1)\n",
    "q1_vect_df = pd.DataFrame(list(vecs1))\n"
   ]
  },
  {
   "cell_type": "code",
   "execution_count": 52,
   "metadata": {
    "tags": []
   },
   "outputs": [
    {
     "output_type": "stream",
     "name": "stderr",
     "text": "100%|██████████| 100000/100000 [10:00&lt;00:00, 166.40it/s]\n"
    }
   ],
   "source": [
    "vecs2 = []\n",
    "for qu2 in tqdm(list(data['question2'][0:100000])):\n",
    "    doc2 = nlp(qu2) \n",
    "    mean_vec2 = np.zeros([len(doc1), len(doc2[0].vector)])\n",
    "    for word2 in doc2:\n",
    "        vec2 = word2.vector\n",
    "        try:\n",
    "            idf = tfidf_dict[str(word2)]\n",
    "        except:\n",
    "            idf = 0\n",
    "        mean_vec2 += vec2 * idf\n",
    "    mean_vec2 = mean_vec2.mean(axis=0)\n",
    "    vecs2.append(mean_vec2)\n",
    "q2_vect_df = pd.DataFrame(list(vecs1))"
   ]
  },
  {
   "cell_type": "code",
   "execution_count": 57,
   "metadata": {},
   "outputs": [
    {
     "output_type": "execute_result",
     "data": {
      "text/plain": "Index([&#39;id&#39;, &#39;qid1&#39;, &#39;qid2&#39;, &#39;question1&#39;, &#39;question2&#39;, &#39;is_duplicate&#39;,\n       &#39;q1_feq&#39;, &#39;q2_feq&#39;, &#39;q1_len&#39;, &#39;q2_len&#39;, &#39;q1_wrdcnt&#39;, &#39;q2_wrdcnt&#39;,\n       &#39;comm_wrds&#39;, &#39;tot_wrtcnt&#39;, &#39;wrd_share&#39;, &#39;add_feq&#39;, &#39;sub_feq&#39;, &#39;q1&#39;,\n       &#39;q2&#39;, &#39;ctc_min&#39;, &#39;ctc_max&#39;, &#39;cwc_min&#39;, &#39;cwc_max&#39;, &#39;csc_min&#39;, &#39;csc_max&#39;,\n       &#39;start_wrd&#39;, &#39;end_wrd&#39;, &#39;len_diff&#39;, &#39;avg_len&#39;, &#39;fuzz_ratio&#39;,\n       &#39;partial_ratio&#39;, &#39;token_sort_ratio&#39;, &#39;token_set_ratio&#39;,\n       &#39;longest_substring_len&#39;],\n      dtype=&#39;object&#39;)"
     },
     "metadata": {},
     "execution_count": 57
    }
   ],
   "source": [
    "with open('all_feats.pickle', 'rb') as handle:\n",
    "    all_feats = pickle.load(handle)\n",
    "all_feats.columns"
   ]
  },
  {
   "cell_type": "code",
   "execution_count": 53,
   "metadata": {},
   "outputs": [
    {
     "output_type": "execute_result",
     "data": {
      "text/plain": "               0           1           2           3           4          5   \\\n0       78.682992   87.635912   77.898819  -61.473692   44.053226  18.525178   \n1       99.993008   55.174564   -2.049167   36.677249   85.412371 -45.989080   \n2       62.709638   72.489519   10.889310  -45.772860   71.261772 -34.385969   \n3       35.006791  -40.413219   53.450493  -45.069038   37.137247 -21.992808   \n4      135.425154  187.445625  143.612776 -111.735024   56.977977 -70.101866   \n...           ...         ...         ...         ...         ...        ...   \n99995   50.431833   46.416796   12.426708  -64.581614  113.621014 -54.823904   \n99996   46.921942  -33.907936  -12.220003  -40.109203   26.887653 -28.481168   \n99997   31.871186   40.452379   25.536949   59.983472  141.216376  -4.532640   \n99998   54.874772   26.017849   73.237382  -23.073876  108.942851 -37.052761   \n99999   88.059299  114.351519   53.447015  -23.683834   80.891913   5.833268   \n\n               6           7           8           9   ...          86  \\\n0      -28.609312   47.452460  -86.095610   58.907952  ...    7.157678   \n1       31.112590   76.453094  -74.456509  110.348369  ...  -64.475704   \n2      -26.228285   18.224490 -113.496336  115.968702  ...   77.008272   \n3      -28.184323  131.916699   41.891510   27.243861  ...  -36.975472   \n4      -47.585533   59.575895  -56.992457  253.326808  ...  -34.521699   \n...           ...         ...         ...         ...  ...         ...   \n99995 -103.367449   18.171196  -87.549190   24.744277  ...  157.476830   \n99996  -51.876124   39.009582  -14.053054   30.907909  ...   11.594762   \n99997   17.796229   73.690377  -49.425923   24.372689  ...   30.629485   \n99998  -95.090122   34.550603   22.451997  102.080223  ...   78.987806   \n99999    0.905988   16.312790  -59.285788  101.701557  ...    1.312760   \n\n              87         88         89         90         91          92  \\\n0      86.842601  38.238606 -25.909486   3.169638 -54.031532 -112.663659   \n1      27.344039 -22.471263 -23.111044 -97.185489  13.815928  -24.577477   \n2       5.414788 -26.222928  35.709896 -49.750098 -74.032807 -130.011004   \n3      25.987250 -74.511655 -45.798322  42.739461 -17.318146   37.957786   \n4      74.533560  -3.963831 -77.077944  27.673524 -87.661703 -146.777092   \n...          ...        ...        ...        ...        ...         ...   \n99995  20.444703  12.985929 -10.703484  35.840786 -37.030177   -9.987324   \n99996   6.775913 -23.255859 -36.634537  95.023611 -11.532416   36.057952   \n99997 -19.630359  69.012686  30.027649 -31.114696  24.448875 -104.331569   \n99998  14.458624  25.813056  21.272252  16.629934 -11.735951  -88.313945   \n99999  23.597950 -11.401904 -34.621341  53.074073 -29.483344  -55.834794   \n\n              93          94         95  \n0       1.619508   81.309565 -17.361949  \n1      72.654378   58.654857 -19.836278  \n2     -84.557644   10.153947 -30.314630  \n3     -47.867102 -101.418604  -3.919247  \n4       1.730535    5.950078 -12.494797  \n...          ...         ...        ...  \n99995  18.476616   77.142565  65.226456  \n99996 -10.749227   33.401148 -32.235159  \n99997  44.309402    1.425371 -37.907382  \n99998  24.789134   31.729830  -4.310078  \n99999 -56.923945  -40.696960  10.084884  \n\n[100000 rows x 96 columns]",
      "text/html": "<div>\n<style scoped>\n    .dataframe tbody tr th:only-of-type {\n        vertical-align: middle;\n    }\n\n    .dataframe tbody tr th {\n        vertical-align: top;\n    }\n\n    .dataframe thead th {\n        text-align: right;\n    }\n</style>\n<table border=\"1\" class=\"dataframe\">\n  <thead>\n    <tr style=\"text-align: right;\">\n      <th></th>\n      <th>0</th>\n      <th>1</th>\n      <th>2</th>\n      <th>3</th>\n      <th>4</th>\n      <th>5</th>\n      <th>6</th>\n      <th>7</th>\n      <th>8</th>\n      <th>9</th>\n      <th>...</th>\n      <th>86</th>\n      <th>87</th>\n      <th>88</th>\n      <th>89</th>\n      <th>90</th>\n      <th>91</th>\n      <th>92</th>\n      <th>93</th>\n      <th>94</th>\n      <th>95</th>\n    </tr>\n  </thead>\n  <tbody>\n    <tr>\n      <th>0</th>\n      <td>78.682992</td>\n      <td>87.635912</td>\n      <td>77.898819</td>\n      <td>-61.473692</td>\n      <td>44.053226</td>\n      <td>18.525178</td>\n      <td>-28.609312</td>\n      <td>47.452460</td>\n      <td>-86.095610</td>\n      <td>58.907952</td>\n      <td>...</td>\n      <td>7.157678</td>\n      <td>86.842601</td>\n      <td>38.238606</td>\n      <td>-25.909486</td>\n      <td>3.169638</td>\n      <td>-54.031532</td>\n      <td>-112.663659</td>\n      <td>1.619508</td>\n      <td>81.309565</td>\n      <td>-17.361949</td>\n    </tr>\n    <tr>\n      <th>1</th>\n      <td>99.993008</td>\n      <td>55.174564</td>\n      <td>-2.049167</td>\n      <td>36.677249</td>\n      <td>85.412371</td>\n      <td>-45.989080</td>\n      <td>31.112590</td>\n      <td>76.453094</td>\n      <td>-74.456509</td>\n      <td>110.348369</td>\n      <td>...</td>\n      <td>-64.475704</td>\n      <td>27.344039</td>\n      <td>-22.471263</td>\n      <td>-23.111044</td>\n      <td>-97.185489</td>\n      <td>13.815928</td>\n      <td>-24.577477</td>\n      <td>72.654378</td>\n      <td>58.654857</td>\n      <td>-19.836278</td>\n    </tr>\n    <tr>\n      <th>2</th>\n      <td>62.709638</td>\n      <td>72.489519</td>\n      <td>10.889310</td>\n      <td>-45.772860</td>\n      <td>71.261772</td>\n      <td>-34.385969</td>\n      <td>-26.228285</td>\n      <td>18.224490</td>\n      <td>-113.496336</td>\n      <td>115.968702</td>\n      <td>...</td>\n      <td>77.008272</td>\n      <td>5.414788</td>\n      <td>-26.222928</td>\n      <td>35.709896</td>\n      <td>-49.750098</td>\n      <td>-74.032807</td>\n      <td>-130.011004</td>\n      <td>-84.557644</td>\n      <td>10.153947</td>\n      <td>-30.314630</td>\n    </tr>\n    <tr>\n      <th>3</th>\n      <td>35.006791</td>\n      <td>-40.413219</td>\n      <td>53.450493</td>\n      <td>-45.069038</td>\n      <td>37.137247</td>\n      <td>-21.992808</td>\n      <td>-28.184323</td>\n      <td>131.916699</td>\n      <td>41.891510</td>\n      <td>27.243861</td>\n      <td>...</td>\n      <td>-36.975472</td>\n      <td>25.987250</td>\n      <td>-74.511655</td>\n      <td>-45.798322</td>\n      <td>42.739461</td>\n      <td>-17.318146</td>\n      <td>37.957786</td>\n      <td>-47.867102</td>\n      <td>-101.418604</td>\n      <td>-3.919247</td>\n    </tr>\n    <tr>\n      <th>4</th>\n      <td>135.425154</td>\n      <td>187.445625</td>\n      <td>143.612776</td>\n      <td>-111.735024</td>\n      <td>56.977977</td>\n      <td>-70.101866</td>\n      <td>-47.585533</td>\n      <td>59.575895</td>\n      <td>-56.992457</td>\n      <td>253.326808</td>\n      <td>...</td>\n      <td>-34.521699</td>\n      <td>74.533560</td>\n      <td>-3.963831</td>\n      <td>-77.077944</td>\n      <td>27.673524</td>\n      <td>-87.661703</td>\n      <td>-146.777092</td>\n      <td>1.730535</td>\n      <td>5.950078</td>\n      <td>-12.494797</td>\n    </tr>\n    <tr>\n      <th>...</th>\n      <td>...</td>\n      <td>...</td>\n      <td>...</td>\n      <td>...</td>\n      <td>...</td>\n      <td>...</td>\n      <td>...</td>\n      <td>...</td>\n      <td>...</td>\n      <td>...</td>\n      <td>...</td>\n      <td>...</td>\n      <td>...</td>\n      <td>...</td>\n      <td>...</td>\n      <td>...</td>\n      <td>...</td>\n      <td>...</td>\n      <td>...</td>\n      <td>...</td>\n      <td>...</td>\n    </tr>\n    <tr>\n      <th>99995</th>\n      <td>50.431833</td>\n      <td>46.416796</td>\n      <td>12.426708</td>\n      <td>-64.581614</td>\n      <td>113.621014</td>\n      <td>-54.823904</td>\n      <td>-103.367449</td>\n      <td>18.171196</td>\n      <td>-87.549190</td>\n      <td>24.744277</td>\n      <td>...</td>\n      <td>157.476830</td>\n      <td>20.444703</td>\n      <td>12.985929</td>\n      <td>-10.703484</td>\n      <td>35.840786</td>\n      <td>-37.030177</td>\n      <td>-9.987324</td>\n      <td>18.476616</td>\n      <td>77.142565</td>\n      <td>65.226456</td>\n    </tr>\n    <tr>\n      <th>99996</th>\n      <td>46.921942</td>\n      <td>-33.907936</td>\n      <td>-12.220003</td>\n      <td>-40.109203</td>\n      <td>26.887653</td>\n      <td>-28.481168</td>\n      <td>-51.876124</td>\n      <td>39.009582</td>\n      <td>-14.053054</td>\n      <td>30.907909</td>\n      <td>...</td>\n      <td>11.594762</td>\n      <td>6.775913</td>\n      <td>-23.255859</td>\n      <td>-36.634537</td>\n      <td>95.023611</td>\n      <td>-11.532416</td>\n      <td>36.057952</td>\n      <td>-10.749227</td>\n      <td>33.401148</td>\n      <td>-32.235159</td>\n    </tr>\n    <tr>\n      <th>99997</th>\n      <td>31.871186</td>\n      <td>40.452379</td>\n      <td>25.536949</td>\n      <td>59.983472</td>\n      <td>141.216376</td>\n      <td>-4.532640</td>\n      <td>17.796229</td>\n      <td>73.690377</td>\n      <td>-49.425923</td>\n      <td>24.372689</td>\n      <td>...</td>\n      <td>30.629485</td>\n      <td>-19.630359</td>\n      <td>69.012686</td>\n      <td>30.027649</td>\n      <td>-31.114696</td>\n      <td>24.448875</td>\n      <td>-104.331569</td>\n      <td>44.309402</td>\n      <td>1.425371</td>\n      <td>-37.907382</td>\n    </tr>\n    <tr>\n      <th>99998</th>\n      <td>54.874772</td>\n      <td>26.017849</td>\n      <td>73.237382</td>\n      <td>-23.073876</td>\n      <td>108.942851</td>\n      <td>-37.052761</td>\n      <td>-95.090122</td>\n      <td>34.550603</td>\n      <td>22.451997</td>\n      <td>102.080223</td>\n      <td>...</td>\n      <td>78.987806</td>\n      <td>14.458624</td>\n      <td>25.813056</td>\n      <td>21.272252</td>\n      <td>16.629934</td>\n      <td>-11.735951</td>\n      <td>-88.313945</td>\n      <td>24.789134</td>\n      <td>31.729830</td>\n      <td>-4.310078</td>\n    </tr>\n    <tr>\n      <th>99999</th>\n      <td>88.059299</td>\n      <td>114.351519</td>\n      <td>53.447015</td>\n      <td>-23.683834</td>\n      <td>80.891913</td>\n      <td>5.833268</td>\n      <td>0.905988</td>\n      <td>16.312790</td>\n      <td>-59.285788</td>\n      <td>101.701557</td>\n      <td>...</td>\n      <td>1.312760</td>\n      <td>23.597950</td>\n      <td>-11.401904</td>\n      <td>-34.621341</td>\n      <td>53.074073</td>\n      <td>-29.483344</td>\n      <td>-55.834794</td>\n      <td>-56.923945</td>\n      <td>-40.696960</td>\n      <td>10.084884</td>\n    </tr>\n  </tbody>\n</table>\n<p>100000 rows × 96 columns</p>\n</div>"
     },
     "metadata": {},
     "execution_count": 53
    }
   ],
   "source": [
    "q2_vect_df"
   ]
  },
  {
   "cell_type": "code",
   "execution_count": 6,
   "metadata": {},
   "outputs": [],
   "source": [
    "cols = ['id', 'qid1', 'qid2', 'question1', 'question2', 'is_duplicate',\n",
    "       'q1_feq', 'q2_feq', 'q1_len', 'q2_len', 'q1_wrdcnt', 'q2_wrdcnt',\n",
    "       'comm_wrds', 'tot_wrtcnt', 'wrd_share', 'add_feq', 'sub_feq', 'q1',\n",
    "       'q2', 'ctc_min', 'ctc_max', 'cwc_min', 'cwc_max', 'csc_min', 'csc_max',\n",
    "       'start_wrd', 'end_wrd', 'len_diff', 'avg_len', 'fuzz_ratio',\n",
    "       'partial_ratio', 'token_sort_ratio', 'token_set_ratio',\n",
    "       'longest_substring_len','0_x','1_x','2_x','3_x','4_x','5_x','6_x','7_x','8_x','9_x','10_x','11_x','12_x','13_x','14_x','15_x','16_x','17_x','18_x','19_x','20_x','21_x','22_x','23_x','24_x','25_x','26_x','27_x','28_x','29_x','30_x','31_x','32_x','33_x','34_x','35_x','36_x','37_x','38_x','39_x','40_x','41_x','42_x','43_x','44_x','45_x','46_x','47_x','48_x','49_x','50_x','51_x','52_x','53_x','54_x','55_x','56_x','57_x','58_x','59_x','60_x','61_x','62_x','63_x','64_x','65_x','66_x','67_x','68_x','69_x','70_x','71_x','72_x','73_x','74_x','75_x','76_x','77_x','78_x','79_x','80_x','81_x','82_x','83_x','84_x','85_x','86_x','87_x','88_x','89_x','90_x','91_x','92_x','93_x','94_x','95_x','0_y','1_y','2_y','3_y','4_y','5_y','6_y','7_y','8_y','9_y','10_y','11_y','12_y','13_y','14_y','15_y','16_y','17_y','18_y','19_y','20_y','21_y','22_y','23_y','24_y','25_y','26_y','27_y','28_y','29_y','30_y','31_y','32_y','33_y','34_y','35_y','36_y','37_y','38_y','39_y','40_y','41_y','42_y','43_y','44_y','45_y','46_y','47_y','48_y','49_y','50_y','51_y','52_y','53_y','54_y','55_y','56_y','57_y','58_y','59_y','60_y','61_y','62_y','63_y','64_y','65_y','66_y','67_y','68_y','69_y','70_y','71_y','72_y','73_y','74_y','75_y','76_y','77_y','78_y','79_y','80_y','81_y','82_y','83_y','84_y','85_y','86_y','87_y','88_y','89_y','90_y','91_y','92_y','93_y','94_y','95_y']"
   ]
  },
  {
   "cell_type": "code",
   "execution_count": 67,
   "metadata": {},
   "outputs": [
    {
     "output_type": "execute_result",
     "data": {
      "text/plain": "   id  qid1  qid2                                          question1  \\\n0   0     1     2  What is the step by step guide to invest in sh...   \n1   1     3     4  What is the story of Kohinoor (Koh-i-Noor) Dia...   \n2   2     5     6  How can I increase the speed of my internet co...   \n3   3     7     8  Why am I mentally very lonely? How can I solve...   \n4   4     9    10  Which one dissolve in water quikly sugar, salt...   \n\n                                           question2  is_duplicate  q1_feq  \\\n0  What is the step by step guide to invest in sh...             0       1   \n1  What would happen if the Indian government sto...             0       4   \n2  How can Internet speed be increased by hacking...             0       1   \n3  Find the remainder when [math]23^{24}[/math] i...             0       1   \n4            Which fish would survive in salt water?             0       3   \n\n   q2_feq  q1_len  q2_len  ...         86         87         88         89  \\\n0       1      66      57  ...   7.157678  86.842601  38.238606 -25.909486   \n1       2      51      88  ... -64.475704  27.344039 -22.471263 -23.111044   \n2       1      73      59  ...  77.008272   5.414788 -26.222928  35.709896   \n3       1      50      65  ... -36.975472  25.987250 -74.511655 -45.798322   \n4       1      76      39  ... -34.521699  74.533560  -3.963831 -77.077944   \n\n          90         91          92         93          94         95  \n0   3.169638 -54.031532 -112.663659   1.619508   81.309565 -17.361949  \n1 -97.185489  13.815928  -24.577477  72.654378   58.654857 -19.836278  \n2 -49.750098 -74.032807 -130.011004 -84.557644   10.153947 -30.314630  \n3  42.739461 -17.318146   37.957786 -47.867102 -101.418604  -3.919247  \n4  27.673524 -87.661703 -146.777092   1.730535    5.950078 -12.494797  \n\n[5 rows x 226 columns]",
      "text/html": "<div>\n<style scoped>\n    .dataframe tbody tr th:only-of-type {\n        vertical-align: middle;\n    }\n\n    .dataframe tbody tr th {\n        vertical-align: top;\n    }\n\n    .dataframe thead th {\n        text-align: right;\n    }\n</style>\n<table border=\"1\" class=\"dataframe\">\n  <thead>\n    <tr style=\"text-align: right;\">\n      <th></th>\n      <th>id</th>\n      <th>qid1</th>\n      <th>qid2</th>\n      <th>question1</th>\n      <th>question2</th>\n      <th>is_duplicate</th>\n      <th>q1_feq</th>\n      <th>q2_feq</th>\n      <th>q1_len</th>\n      <th>q2_len</th>\n      <th>...</th>\n      <th>86</th>\n      <th>87</th>\n      <th>88</th>\n      <th>89</th>\n      <th>90</th>\n      <th>91</th>\n      <th>92</th>\n      <th>93</th>\n      <th>94</th>\n      <th>95</th>\n    </tr>\n  </thead>\n  <tbody>\n    <tr>\n      <th>0</th>\n      <td>0</td>\n      <td>1</td>\n      <td>2</td>\n      <td>What is the step by step guide to invest in sh...</td>\n      <td>What is the step by step guide to invest in sh...</td>\n      <td>0</td>\n      <td>1</td>\n      <td>1</td>\n      <td>66</td>\n      <td>57</td>\n      <td>...</td>\n      <td>7.157678</td>\n      <td>86.842601</td>\n      <td>38.238606</td>\n      <td>-25.909486</td>\n      <td>3.169638</td>\n      <td>-54.031532</td>\n      <td>-112.663659</td>\n      <td>1.619508</td>\n      <td>81.309565</td>\n      <td>-17.361949</td>\n    </tr>\n    <tr>\n      <th>1</th>\n      <td>1</td>\n      <td>3</td>\n      <td>4</td>\n      <td>What is the story of Kohinoor (Koh-i-Noor) Dia...</td>\n      <td>What would happen if the Indian government sto...</td>\n      <td>0</td>\n      <td>4</td>\n      <td>2</td>\n      <td>51</td>\n      <td>88</td>\n      <td>...</td>\n      <td>-64.475704</td>\n      <td>27.344039</td>\n      <td>-22.471263</td>\n      <td>-23.111044</td>\n      <td>-97.185489</td>\n      <td>13.815928</td>\n      <td>-24.577477</td>\n      <td>72.654378</td>\n      <td>58.654857</td>\n      <td>-19.836278</td>\n    </tr>\n    <tr>\n      <th>2</th>\n      <td>2</td>\n      <td>5</td>\n      <td>6</td>\n      <td>How can I increase the speed of my internet co...</td>\n      <td>How can Internet speed be increased by hacking...</td>\n      <td>0</td>\n      <td>1</td>\n      <td>1</td>\n      <td>73</td>\n      <td>59</td>\n      <td>...</td>\n      <td>77.008272</td>\n      <td>5.414788</td>\n      <td>-26.222928</td>\n      <td>35.709896</td>\n      <td>-49.750098</td>\n      <td>-74.032807</td>\n      <td>-130.011004</td>\n      <td>-84.557644</td>\n      <td>10.153947</td>\n      <td>-30.314630</td>\n    </tr>\n    <tr>\n      <th>3</th>\n      <td>3</td>\n      <td>7</td>\n      <td>8</td>\n      <td>Why am I mentally very lonely? How can I solve...</td>\n      <td>Find the remainder when [math]23^{24}[/math] i...</td>\n      <td>0</td>\n      <td>1</td>\n      <td>1</td>\n      <td>50</td>\n      <td>65</td>\n      <td>...</td>\n      <td>-36.975472</td>\n      <td>25.987250</td>\n      <td>-74.511655</td>\n      <td>-45.798322</td>\n      <td>42.739461</td>\n      <td>-17.318146</td>\n      <td>37.957786</td>\n      <td>-47.867102</td>\n      <td>-101.418604</td>\n      <td>-3.919247</td>\n    </tr>\n    <tr>\n      <th>4</th>\n      <td>4</td>\n      <td>9</td>\n      <td>10</td>\n      <td>Which one dissolve in water quikly sugar, salt...</td>\n      <td>Which fish would survive in salt water?</td>\n      <td>0</td>\n      <td>3</td>\n      <td>1</td>\n      <td>76</td>\n      <td>39</td>\n      <td>...</td>\n      <td>-34.521699</td>\n      <td>74.533560</td>\n      <td>-3.963831</td>\n      <td>-77.077944</td>\n      <td>27.673524</td>\n      <td>-87.661703</td>\n      <td>-146.777092</td>\n      <td>1.730535</td>\n      <td>5.950078</td>\n      <td>-12.494797</td>\n    </tr>\n  </tbody>\n</table>\n<p>5 rows × 226 columns</p>\n</div>"
     },
     "metadata": {},
     "execution_count": 67
    }
   ],
   "source": [
    "dataset = pd.concat([all_feats.iloc[0:100000],q1_vect_df,q2_vect_df],axis=1)\n",
    "dataset.head()"
   ]
  },
  {
   "cell_type": "code",
   "execution_count": 19,
   "metadata": {},
   "outputs": [],
   "source": [
    "dataset.to_csv('datasets/dataset.csv',index=False)"
   ]
  },
  {
   "cell_type": "code",
   "execution_count": 66,
   "metadata": {},
   "outputs": [],
   "source": [
    "with open('datasets/dataset.pickle', 'wb') as handle:\n",
    "    pickle.dump(dataset,handle)"
   ]
  },
  {
   "cell_type": "code",
   "execution_count": 4,
   "metadata": {},
   "outputs": [],
   "source": [
    "with open('datasets/dataset.pickle', 'rb') as handle:\n",
    "    dataset = pickle.load(handle)"
   ]
  },
  {
   "cell_type": "code",
   "execution_count": 5,
   "metadata": {},
   "outputs": [
    {
     "output_type": "execute_result",
     "data": {
      "text/plain": "   id  qid1  qid2                                          question1  \\\n0   0     1     2  What is the step by step guide to invest in sh...   \n1   1     3     4  What is the story of Kohinoor (Koh-i-Noor) Dia...   \n2   2     5     6  How can I increase the speed of my internet co...   \n3   3     7     8  Why am I mentally very lonely? How can I solve...   \n4   4     9    10  Which one dissolve in water quikly sugar, salt...   \n\n                                           question2  is_duplicate  q1_feq  \\\n0  What is the step by step guide to invest in sh...             0       1   \n1  What would happen if the Indian government sto...             0       4   \n2  How can Internet speed be increased by hacking...             0       1   \n3  Find the remainder when [math]23^{24}[/math] i...             0       1   \n4            Which fish would survive in salt water?             0       3   \n\n   q2_feq  q1_len  q2_len  ...         86         87         88         89  \\\n0       1      66      57  ...   7.157678  86.842601  38.238606 -25.909486   \n1       2      51      88  ... -64.475704  27.344039 -22.471263 -23.111044   \n2       1      73      59  ...  77.008272   5.414788 -26.222928  35.709896   \n3       1      50      65  ... -36.975472  25.987250 -74.511655 -45.798322   \n4       1      76      39  ... -34.521699  74.533560  -3.963831 -77.077944   \n\n          90         91          92         93          94         95  \n0   3.169638 -54.031532 -112.663659   1.619508   81.309565 -17.361949  \n1 -97.185489  13.815928  -24.577477  72.654378   58.654857 -19.836278  \n2 -49.750098 -74.032807 -130.011004 -84.557644   10.153947 -30.314630  \n3  42.739461 -17.318146   37.957786 -47.867102 -101.418604  -3.919247  \n4  27.673524 -87.661703 -146.777092   1.730535    5.950078 -12.494797  \n\n[5 rows x 226 columns]",
      "text/html": "<div>\n<style scoped>\n    .dataframe tbody tr th:only-of-type {\n        vertical-align: middle;\n    }\n\n    .dataframe tbody tr th {\n        vertical-align: top;\n    }\n\n    .dataframe thead th {\n        text-align: right;\n    }\n</style>\n<table border=\"1\" class=\"dataframe\">\n  <thead>\n    <tr style=\"text-align: right;\">\n      <th></th>\n      <th>id</th>\n      <th>qid1</th>\n      <th>qid2</th>\n      <th>question1</th>\n      <th>question2</th>\n      <th>is_duplicate</th>\n      <th>q1_feq</th>\n      <th>q2_feq</th>\n      <th>q1_len</th>\n      <th>q2_len</th>\n      <th>...</th>\n      <th>86</th>\n      <th>87</th>\n      <th>88</th>\n      <th>89</th>\n      <th>90</th>\n      <th>91</th>\n      <th>92</th>\n      <th>93</th>\n      <th>94</th>\n      <th>95</th>\n    </tr>\n  </thead>\n  <tbody>\n    <tr>\n      <th>0</th>\n      <td>0</td>\n      <td>1</td>\n      <td>2</td>\n      <td>What is the step by step guide to invest in sh...</td>\n      <td>What is the step by step guide to invest in sh...</td>\n      <td>0</td>\n      <td>1</td>\n      <td>1</td>\n      <td>66</td>\n      <td>57</td>\n      <td>...</td>\n      <td>7.157678</td>\n      <td>86.842601</td>\n      <td>38.238606</td>\n      <td>-25.909486</td>\n      <td>3.169638</td>\n      <td>-54.031532</td>\n      <td>-112.663659</td>\n      <td>1.619508</td>\n      <td>81.309565</td>\n      <td>-17.361949</td>\n    </tr>\n    <tr>\n      <th>1</th>\n      <td>1</td>\n      <td>3</td>\n      <td>4</td>\n      <td>What is the story of Kohinoor (Koh-i-Noor) Dia...</td>\n      <td>What would happen if the Indian government sto...</td>\n      <td>0</td>\n      <td>4</td>\n      <td>2</td>\n      <td>51</td>\n      <td>88</td>\n      <td>...</td>\n      <td>-64.475704</td>\n      <td>27.344039</td>\n      <td>-22.471263</td>\n      <td>-23.111044</td>\n      <td>-97.185489</td>\n      <td>13.815928</td>\n      <td>-24.577477</td>\n      <td>72.654378</td>\n      <td>58.654857</td>\n      <td>-19.836278</td>\n    </tr>\n    <tr>\n      <th>2</th>\n      <td>2</td>\n      <td>5</td>\n      <td>6</td>\n      <td>How can I increase the speed of my internet co...</td>\n      <td>How can Internet speed be increased by hacking...</td>\n      <td>0</td>\n      <td>1</td>\n      <td>1</td>\n      <td>73</td>\n      <td>59</td>\n      <td>...</td>\n      <td>77.008272</td>\n      <td>5.414788</td>\n      <td>-26.222928</td>\n      <td>35.709896</td>\n      <td>-49.750098</td>\n      <td>-74.032807</td>\n      <td>-130.011004</td>\n      <td>-84.557644</td>\n      <td>10.153947</td>\n      <td>-30.314630</td>\n    </tr>\n    <tr>\n      <th>3</th>\n      <td>3</td>\n      <td>7</td>\n      <td>8</td>\n      <td>Why am I mentally very lonely? How can I solve...</td>\n      <td>Find the remainder when [math]23^{24}[/math] i...</td>\n      <td>0</td>\n      <td>1</td>\n      <td>1</td>\n      <td>50</td>\n      <td>65</td>\n      <td>...</td>\n      <td>-36.975472</td>\n      <td>25.987250</td>\n      <td>-74.511655</td>\n      <td>-45.798322</td>\n      <td>42.739461</td>\n      <td>-17.318146</td>\n      <td>37.957786</td>\n      <td>-47.867102</td>\n      <td>-101.418604</td>\n      <td>-3.919247</td>\n    </tr>\n    <tr>\n      <th>4</th>\n      <td>4</td>\n      <td>9</td>\n      <td>10</td>\n      <td>Which one dissolve in water quikly sugar, salt...</td>\n      <td>Which fish would survive in salt water?</td>\n      <td>0</td>\n      <td>3</td>\n      <td>1</td>\n      <td>76</td>\n      <td>39</td>\n      <td>...</td>\n      <td>-34.521699</td>\n      <td>74.533560</td>\n      <td>-3.963831</td>\n      <td>-77.077944</td>\n      <td>27.673524</td>\n      <td>-87.661703</td>\n      <td>-146.777092</td>\n      <td>1.730535</td>\n      <td>5.950078</td>\n      <td>-12.494797</td>\n    </tr>\n  </tbody>\n</table>\n<p>5 rows × 226 columns</p>\n</div>"
     },
     "metadata": {},
     "execution_count": 5
    }
   ],
   "source": [
    "dataset.head()"
   ]
  },
  {
   "cell_type": "code",
   "execution_count": null,
   "metadata": {},
   "outputs": [],
   "source": [
    "#Creating db file from csv\n",
    "if not os.path.isfile('dataset/quora_data.db'):\n",
    "    disk_engine = create_engine('sqlite:///quora_data.db')\n",
    "    start = dt.datetime.now()\n",
    "    chunksize = 180000\n",
    "    j = 0\n",
    "    index_start = 1\n",
    "    for df in pd.read_csv('final_features.csv',names=cols, chunksize=chunksize, iterator=True, encoding='utf-8'):\n",
    "        df.index += index_start\n",
    "        j+=1\n",
    "        print('{} rows'.format(j*chunksize))\n",
    "        df.to_sql('data', disk_engine, if_exists='append')\n",
    "        index_start = df.index[-1] + 1"
   ]
  },
  {
   "cell_type": "code",
   "execution_count": 21,
   "metadata": {
    "tags": []
   },
   "outputs": [
    {
     "output_type": "stream",
     "name": "stdout",
     "text": "          id   qid1   qid2                                          question1  \\\n0         id   qid1   qid2                                          question1   \n1          0      1      2  What is the step by step guide to invest in sh...   \n2          1      3      4  What is the story of Kohinoor (Koh-i-Noor) Dia...   \n3          2      5      6  How can I increase the speed of my internet co...   \n4          3      7      8  Why am I mentally very lonely? How can I solve...   \n...      ...    ...    ...                                                ...   \n39995  39994  72428  72429  What is the difference between PADI and SSI op...   \n39996  39995  72430  72431           Is &quot;Friends&quot; (TV series) worth watching?   \n39997  39996  72432  72433  I&#39;m a 19 guy, can I get a &#39;female&#39; butt and by...   \n39998  39997  72434  72435  What are some mind blowing accessories that ex...   \n39999  39998  72436  38385       Can one tell who viewed my Instagram videos?   \n\n                                               question2  is_duplicate  \\\n0                                              question2  is_duplicate   \n1      What is the step by step guide to invest in sh...             0   \n2      What would happen if the Indian government sto...             0   \n3      How can Internet speed be increased by hacking...             0   \n4      Find the remainder when [math]23^{24}[/math] i...             0   \n...                                                  ...           ...   \n39995  Is it okay to go scuba diving while menstruating?             0   \n39996                 What TV series are worth watching?             0   \n39997  What are the best ways for BOYS to get wider h...             0   \n39998  What are some of the best new products that ar...             1   \n39999  How can you tell who has viewed Instagram videos?             1   \n\n       q1_feq  q2_feq  q1_len  q2_len  ...        86_y       87_y       88_y  \\\n0      q1_feq  q2_feq  q1_len  q2_len  ...   86.000000  87.000000  88.000000   \n1           1       1      66      57  ...    7.157678  86.842601  38.238606   \n2           4       2      51      88  ...  -64.475704  27.344039 -22.471263   \n3           1       1      73      59  ...   77.008272   5.414788 -26.222928   \n4           1       1      50      65  ...  -36.975472  25.987250 -74.511655   \n...       ...     ...     ...     ...  ...         ...        ...        ...   \n39995       1       1      83      49  ...    7.622181  -8.094974  17.155268   \n39996       1      18      40      34  ...    7.342018  20.739742 -18.562820   \n39997       1       1     134      76  ...  104.363459 -33.003660  48.617306   \n39998       7       7      92      91  ...  131.470879  23.791065 -14.944043   \n39999       9       9      44      49  ...  -18.852080  -7.985815  18.862674   \n\n            89_y        90_y       91_y        92_y       93_y        94_y  \\\n0      89.000000   90.000000  91.000000   92.000000  93.000000   94.000000   \n1     -25.909486    3.169638 -54.031532 -112.663659   1.619508   81.309565   \n2     -23.111044  -97.185489  13.815928  -24.577477  72.654378   58.654857   \n3      35.709896  -49.750098 -74.032807 -130.011004 -84.557644   10.153947   \n4     -45.798322   42.739461 -17.318146   37.957786 -47.867102 -101.418604   \n...          ...         ...        ...         ...        ...         ...   \n39995 -67.291165  -10.555772 -89.250859  -51.217217  41.631921   94.721220   \n39996  61.887183   39.530592 -31.685604   43.618843   9.877860  -15.816670   \n39997  78.303996  152.594667  -1.136991  -62.655720 -41.239226  -98.651668   \n39998  52.007672   12.401053 -47.803117   -9.510101 -23.793605   48.984818   \n39999  46.281176  -17.380666  59.803115   29.706344 -14.731575  -40.917576   \n\n            95_y  \n0      95.000000  \n1     -17.361949  \n2     -19.836278  \n3     -30.314630  \n4      -3.919247  \n...          ...  \n39995  49.056616  \n39996  24.207919  \n39997   1.007060  \n39998   7.646803  \n39999  12.793930  \n\n[40000 rows x 226 columns]\n"
    }
   ],
   "source": [
    "j = 0\n",
    "index_start = 1\n",
    "for df in pd.read_csv('datasets/dataset.csv',names=cols, chunksize=40000, iterator=True, encoding='utf-8'):\n",
    "    print(df)\n",
    "    break\n",
    "    df.index += index_start\n",
    "    print(df.index)\n",
    "    j+=1\n",
    "    print('{} rows'.format(j*40000))\n",
    "    # df.to_sql('data', disk_engine, if_exists='append')\n",
    "    index_start = df.index[-1] + 1\n",
    "    print(index_start)"
   ]
  },
  {
   "cell_type": "code",
   "execution_count": 20,
   "metadata": {},
   "outputs": [
    {
     "output_type": "execute_result",
     "data": {
      "text/plain": "          id    qid1    qid2  \\\n0          0       1       2   \n1          1       3       4   \n2          2       5       6   \n3          3       7       8   \n4          4       9      10   \n...      ...     ...     ...   \n99995  99995  165922  165923   \n99996  99996  165924  165925   \n99997  99997  165926  165927   \n99998  99998  165928  165929   \n99999  99999  165930  165931   \n\n                                               question1  \\\n0      What is the step by step guide to invest in sh...   \n1      What is the story of Kohinoor (Koh-i-Noor) Dia...   \n2      How can I increase the speed of my internet co...   \n3      Why am I mentally very lonely? How can I solve...   \n4      Which one dissolve in water quikly sugar, salt...   \n...                                                  ...   \n99995  What are some of the most iconic images of foo...   \n99996                            How green is green tea?   \n99997            Who would win: Black Panther or Batman?   \n99998  Which school is better, for what, and why: Par...   \n99999        How does human body produce carbon dioxide?   \n\n                                               question2  is_duplicate  \\\n0      What is the step by step guide to invest in sh...             0   \n1      What would happen if the Indian government sto...             0   \n2      How can Internet speed be increased by hacking...             0   \n3      Find the remainder when [math]23^{24}[/math] i...             0   \n4                Which fish would survive in salt water?             0   \n...                                                  ...           ...   \n99995  What are some of the most iconic images of women?             0   \n99996                       Why isn&#39;t &quot;green&quot; tea green?             0   \n99997  Who would win in a fight between Black Panther...             1   \n99998  What are some good design schools/colleges on ...             0   \n99999  What would inhaling carbon dioxide cause to a ...             0   \n\n       q1_feq  q2_feq  q1_len  q2_len  ...        86.1       87.1       88.1  \\\n0           1       1      66      57  ...    7.157678  86.842601  38.238606   \n1           4       2      51      88  ...  -64.475704  27.344039 -22.471263   \n2           1       1      73      59  ...   77.008272   5.414788 -26.222928   \n3           1       1      50      65  ...  -36.975472  25.987250 -74.511655   \n4           3       1      76      39  ...  -34.521699  74.533560  -3.963831   \n...       ...     ...     ...     ...  ...         ...        ...        ...   \n99995       1       1      52      49  ...  157.476830  20.444703  12.985929   \n99996       1       4      23      28  ...   11.594762   6.775913 -23.255859   \n99997       2       2      39      58  ...   30.629485 -19.630359  69.012686   \n99998       1       1      59      60  ...   78.987806  14.458624  25.813056   \n99999       2       1      43      52  ...    1.312760  23.597950 -11.401904   \n\n            89.1       90.1       91.1        92.1       93.1        94.1  \\\n0     -25.909486   3.169638 -54.031532 -112.663659   1.619508   81.309565   \n1     -23.111044 -97.185489  13.815928  -24.577477  72.654378   58.654857   \n2      35.709896 -49.750098 -74.032807 -130.011004 -84.557644   10.153947   \n3     -45.798322  42.739461 -17.318146   37.957786 -47.867102 -101.418604   \n4     -77.077944  27.673524 -87.661703 -146.777092   1.730535    5.950078   \n...          ...        ...        ...         ...        ...         ...   \n99995 -10.703484  35.840786 -37.030177   -9.987324  18.476616   77.142565   \n99996 -36.634537  95.023611 -11.532416   36.057952 -10.749227   33.401148   \n99997  30.027649 -31.114696  24.448875 -104.331569  44.309402    1.425371   \n99998  21.272252  16.629934 -11.735951  -88.313945  24.789134   31.729830   \n99999 -34.621341  53.074073 -29.483344  -55.834794 -56.923945  -40.696960   \n\n            95.1  \n0     -17.361949  \n1     -19.836278  \n2     -30.314630  \n3      -3.919247  \n4     -12.494797  \n...          ...  \n99995  65.226456  \n99996 -32.235159  \n99997 -37.907382  \n99998  -4.310078  \n99999  10.084884  \n\n[100000 rows x 226 columns]",
      "text/html": "<div>\n<style scoped>\n    .dataframe tbody tr th:only-of-type {\n        vertical-align: middle;\n    }\n\n    .dataframe tbody tr th {\n        vertical-align: top;\n    }\n\n    .dataframe thead th {\n        text-align: right;\n    }\n</style>\n<table border=\"1\" class=\"dataframe\">\n  <thead>\n    <tr style=\"text-align: right;\">\n      <th></th>\n      <th>id</th>\n      <th>qid1</th>\n      <th>qid2</th>\n      <th>question1</th>\n      <th>question2</th>\n      <th>is_duplicate</th>\n      <th>q1_feq</th>\n      <th>q2_feq</th>\n      <th>q1_len</th>\n      <th>q2_len</th>\n      <th>...</th>\n      <th>86.1</th>\n      <th>87.1</th>\n      <th>88.1</th>\n      <th>89.1</th>\n      <th>90.1</th>\n      <th>91.1</th>\n      <th>92.1</th>\n      <th>93.1</th>\n      <th>94.1</th>\n      <th>95.1</th>\n    </tr>\n  </thead>\n  <tbody>\n    <tr>\n      <th>0</th>\n      <td>0</td>\n      <td>1</td>\n      <td>2</td>\n      <td>What is the step by step guide to invest in sh...</td>\n      <td>What is the step by step guide to invest in sh...</td>\n      <td>0</td>\n      <td>1</td>\n      <td>1</td>\n      <td>66</td>\n      <td>57</td>\n      <td>...</td>\n      <td>7.157678</td>\n      <td>86.842601</td>\n      <td>38.238606</td>\n      <td>-25.909486</td>\n      <td>3.169638</td>\n      <td>-54.031532</td>\n      <td>-112.663659</td>\n      <td>1.619508</td>\n      <td>81.309565</td>\n      <td>-17.361949</td>\n    </tr>\n    <tr>\n      <th>1</th>\n      <td>1</td>\n      <td>3</td>\n      <td>4</td>\n      <td>What is the story of Kohinoor (Koh-i-Noor) Dia...</td>\n      <td>What would happen if the Indian government sto...</td>\n      <td>0</td>\n      <td>4</td>\n      <td>2</td>\n      <td>51</td>\n      <td>88</td>\n      <td>...</td>\n      <td>-64.475704</td>\n      <td>27.344039</td>\n      <td>-22.471263</td>\n      <td>-23.111044</td>\n      <td>-97.185489</td>\n      <td>13.815928</td>\n      <td>-24.577477</td>\n      <td>72.654378</td>\n      <td>58.654857</td>\n      <td>-19.836278</td>\n    </tr>\n    <tr>\n      <th>2</th>\n      <td>2</td>\n      <td>5</td>\n      <td>6</td>\n      <td>How can I increase the speed of my internet co...</td>\n      <td>How can Internet speed be increased by hacking...</td>\n      <td>0</td>\n      <td>1</td>\n      <td>1</td>\n      <td>73</td>\n      <td>59</td>\n      <td>...</td>\n      <td>77.008272</td>\n      <td>5.414788</td>\n      <td>-26.222928</td>\n      <td>35.709896</td>\n      <td>-49.750098</td>\n      <td>-74.032807</td>\n      <td>-130.011004</td>\n      <td>-84.557644</td>\n      <td>10.153947</td>\n      <td>-30.314630</td>\n    </tr>\n    <tr>\n      <th>3</th>\n      <td>3</td>\n      <td>7</td>\n      <td>8</td>\n      <td>Why am I mentally very lonely? How can I solve...</td>\n      <td>Find the remainder when [math]23^{24}[/math] i...</td>\n      <td>0</td>\n      <td>1</td>\n      <td>1</td>\n      <td>50</td>\n      <td>65</td>\n      <td>...</td>\n      <td>-36.975472</td>\n      <td>25.987250</td>\n      <td>-74.511655</td>\n      <td>-45.798322</td>\n      <td>42.739461</td>\n      <td>-17.318146</td>\n      <td>37.957786</td>\n      <td>-47.867102</td>\n      <td>-101.418604</td>\n      <td>-3.919247</td>\n    </tr>\n    <tr>\n      <th>4</th>\n      <td>4</td>\n      <td>9</td>\n      <td>10</td>\n      <td>Which one dissolve in water quikly sugar, salt...</td>\n      <td>Which fish would survive in salt water?</td>\n      <td>0</td>\n      <td>3</td>\n      <td>1</td>\n      <td>76</td>\n      <td>39</td>\n      <td>...</td>\n      <td>-34.521699</td>\n      <td>74.533560</td>\n      <td>-3.963831</td>\n      <td>-77.077944</td>\n      <td>27.673524</td>\n      <td>-87.661703</td>\n      <td>-146.777092</td>\n      <td>1.730535</td>\n      <td>5.950078</td>\n      <td>-12.494797</td>\n    </tr>\n    <tr>\n      <th>...</th>\n      <td>...</td>\n      <td>...</td>\n      <td>...</td>\n      <td>...</td>\n      <td>...</td>\n      <td>...</td>\n      <td>...</td>\n      <td>...</td>\n      <td>...</td>\n      <td>...</td>\n      <td>...</td>\n      <td>...</td>\n      <td>...</td>\n      <td>...</td>\n      <td>...</td>\n      <td>...</td>\n      <td>...</td>\n      <td>...</td>\n      <td>...</td>\n      <td>...</td>\n      <td>...</td>\n    </tr>\n    <tr>\n      <th>99995</th>\n      <td>99995</td>\n      <td>165922</td>\n      <td>165923</td>\n      <td>What are some of the most iconic images of foo...</td>\n      <td>What are some of the most iconic images of women?</td>\n      <td>0</td>\n      <td>1</td>\n      <td>1</td>\n      <td>52</td>\n      <td>49</td>\n      <td>...</td>\n      <td>157.476830</td>\n      <td>20.444703</td>\n      <td>12.985929</td>\n      <td>-10.703484</td>\n      <td>35.840786</td>\n      <td>-37.030177</td>\n      <td>-9.987324</td>\n      <td>18.476616</td>\n      <td>77.142565</td>\n      <td>65.226456</td>\n    </tr>\n    <tr>\n      <th>99996</th>\n      <td>99996</td>\n      <td>165924</td>\n      <td>165925</td>\n      <td>How green is green tea?</td>\n      <td>Why isn't \"green\" tea green?</td>\n      <td>0</td>\n      <td>1</td>\n      <td>4</td>\n      <td>23</td>\n      <td>28</td>\n      <td>...</td>\n      <td>11.594762</td>\n      <td>6.775913</td>\n      <td>-23.255859</td>\n      <td>-36.634537</td>\n      <td>95.023611</td>\n      <td>-11.532416</td>\n      <td>36.057952</td>\n      <td>-10.749227</td>\n      <td>33.401148</td>\n      <td>-32.235159</td>\n    </tr>\n    <tr>\n      <th>99997</th>\n      <td>99997</td>\n      <td>165926</td>\n      <td>165927</td>\n      <td>Who would win: Black Panther or Batman?</td>\n      <td>Who would win in a fight between Black Panther...</td>\n      <td>1</td>\n      <td>2</td>\n      <td>2</td>\n      <td>39</td>\n      <td>58</td>\n      <td>...</td>\n      <td>30.629485</td>\n      <td>-19.630359</td>\n      <td>69.012686</td>\n      <td>30.027649</td>\n      <td>-31.114696</td>\n      <td>24.448875</td>\n      <td>-104.331569</td>\n      <td>44.309402</td>\n      <td>1.425371</td>\n      <td>-37.907382</td>\n    </tr>\n    <tr>\n      <th>99998</th>\n      <td>99998</td>\n      <td>165928</td>\n      <td>165929</td>\n      <td>Which school is better, for what, and why: Par...</td>\n      <td>What are some good design schools/colleges on ...</td>\n      <td>0</td>\n      <td>1</td>\n      <td>1</td>\n      <td>59</td>\n      <td>60</td>\n      <td>...</td>\n      <td>78.987806</td>\n      <td>14.458624</td>\n      <td>25.813056</td>\n      <td>21.272252</td>\n      <td>16.629934</td>\n      <td>-11.735951</td>\n      <td>-88.313945</td>\n      <td>24.789134</td>\n      <td>31.729830</td>\n      <td>-4.310078</td>\n    </tr>\n    <tr>\n      <th>99999</th>\n      <td>99999</td>\n      <td>165930</td>\n      <td>165931</td>\n      <td>How does human body produce carbon dioxide?</td>\n      <td>What would inhaling carbon dioxide cause to a ...</td>\n      <td>0</td>\n      <td>2</td>\n      <td>1</td>\n      <td>43</td>\n      <td>52</td>\n      <td>...</td>\n      <td>1.312760</td>\n      <td>23.597950</td>\n      <td>-11.401904</td>\n      <td>-34.621341</td>\n      <td>53.074073</td>\n      <td>-29.483344</td>\n      <td>-55.834794</td>\n      <td>-56.923945</td>\n      <td>-40.696960</td>\n      <td>10.084884</td>\n    </tr>\n  </tbody>\n</table>\n<p>100000 rows × 226 columns</p>\n</div>"
     },
     "metadata": {},
     "execution_count": 20
    }
   ],
   "source": [
    "pd.read_csv('datasets/dataset.csv')"
   ]
  },
  {
   "cell_type": "code",
   "execution_count": null,
   "metadata": {},
   "outputs": [],
   "source": []
  }
 ]
}